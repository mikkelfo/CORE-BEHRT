{
 "cells": [
  {
   "cell_type": "code",
   "execution_count": 9,
   "metadata": {},
   "outputs": [],
   "source": [
    "import plotly.express as px\n",
    "import plotly.graph_objects as go"
   ]
  },
  {
   "cell_type": "markdown",
   "metadata": {},
   "source": [
    "## Data"
   ]
  },
  {
   "cell_type": "code",
   "execution_count": 10,
   "metadata": {},
   "outputs": [],
   "source": [
    "# Define your data as a dictionary\n",
    "data_exp = {\n",
    "    \"setting\": [\"FV0_BS0_SEP0\", \"FV0_BS0_SEP1\", \"FV0_BS1_SEP0\", \"FV0_BS1_SEP1\", \"FV1_BS0_SEP0\", \"FV1_BS0_SEP1\", \"FV1_BS1_SEP0\", \"FV1_BS1_SEP1\"],\n",
    "    \"roc_auc_mean\": [0.92232, 0.93690, 0.94124, 0.94496, 0.91700, 0.92321, 0.92467, 0.94721],\n",
    "    \"roc_auc_std\": [0.01331, 0.00482, 0.00358, 0.00275, 0.01902, 0.02542, 0.01182, 0.00480],\n",
    "    \"pr_auc_mean\": [0.54481, 0.56390, 0.57731, 0.59218, 0.54345, 0.57156, 0.58224, 0.62291],\n",
    "    \"pr_auc_std\": [0.01991, 0.01602, 0.01480, 0.01698, 0.01427, 0.01813, 0.00634, 0.01843],\n",
    "}\n",
    "\n",
    "model_exp = {\n",
    "    \"setting\": [\"CE0T1\", \"CE1T0\", \"CE1T1\", \"CE0T0\"],\n",
    "    \"roc_auc_mean\": [0.91701, 0.97576, 0.97666, 0.94721],\n",
    "    \"roc_auc_std\": [0.00596, 0.00109, 0.00147, 0.00480],\n",
    "    \"pr_auc_mean\": [0.51997, 0.78891, 0.79207, 0.62291],\n",
    "    \"pr_auc_std\": [0.00933, 0.00761, 0.00972, 0.01843]\n",
    "}\n",
    "\n",
    "training_exp  = {\n",
    "    \"setting\": [\"10MRR\", \"10\", \"15\", \"18MRR\", \"18\", \"20MRR\", \"20\", \"25MRR\", \"25\", \"30MRR\", \"30\", \"15MRR\"],\n",
    "    \"roc_auc_mean\": [0.97775, 0.97017, 0.97272, 0.97513, 0.97425, 0.97768, 0.97867, 0.97651, 0.97314, 0.97513, 0.97576, 0.97666],\n",
    "    \"roc_auc_std\": [0.00191, 0.00252, 0.00333, 0.00101, 0.00161, 0.00139, 0.00182, 0.00153, 0.00311, 0.00270, 0.00280, 0.00147],\n",
    "    \"pr_auc_mean\": [0.79378, 0.77004, 0.77254, 0.78494, 0.77882, 0.80206, 0.80108, 0.78837, 0.78018, 0.78903, 0.78529, 0.79207],\n",
    "    \"pr_auc_std\": [0.00807, 0.01266, 0.01103, 0.00834, 0.01153, 0.01119, 0.01065, 0.00897, 0.01235, 0.01277, 0.01531, 0.00972]\n",
    "}\n",
    "\n",
    "# Chart orders\n",
    "data_chart_order = [\n",
    "    \"FV0_BS0_SEP1\", \n",
    "    \"FV0_BS0_SEP0\", \n",
    "    \"FV1_BS0_SEP1\", \n",
    "    \"FV1_BS0_SEP0\", \n",
    "    \"FV0_BS1_SEP1\", \n",
    "    \"FV0_BS1_SEP0\", \n",
    "    \"FV1_BS1_SEP1\", \n",
    "    \"FV1_BS1_SEP0\"\n",
    "]\n",
    "data_setting_order = [data_exp[\"setting\"].index(c) for c in data_chart_order]\n",
    "data_rocs = [data_exp[\"roc_auc_mean\"][i] for i in data_setting_order]\n",
    "data_prs = [data_exp[\"pr_auc_mean\"][i] for i in data_setting_order]\n",
    "data_diff_roc = [r - data_rocs[0] for r in data_rocs]\n",
    "data_diff_pr = [r - data_prs[0] for r in data_prs]\n",
    "\n",
    "model_chart_order = [\n",
    "    \"CE0T0\",\n",
    "    \"CE0T1\",\n",
    "    \"CE1T0\",\n",
    "    \"CE1T1\",\n",
    "]\n",
    "model_setting_order = [model_exp[\"setting\"].index(c) for c in model_chart_order]\n",
    "model_rocs = [model_exp[\"roc_auc_mean\"][i] for i in model_setting_order]\n",
    "model_prs = [model_exp[\"pr_auc_mean\"][i] for i in model_setting_order]\n",
    "model_diff_roc = [r - model_rocs[0] for r in model_rocs]\n",
    "model_diff_pr = [r - model_prs[0] for r in model_prs]\n",
    "\n",
    "training_order = [\"10MRR\", \"15MRR\", \"20MRR\", \"25MRR\", \"30MRR\", \"10\", \"15\", \"20\", \"25\", \"30\"]\n",
    "training_setting_order = [training_exp[\"setting\"].index(c) for c in training_order]\n",
    "training_rocs = [training_exp[\"roc_auc_mean\"][i] for i in training_setting_order]\n",
    "training_prs = [training_exp[\"pr_auc_mean\"][i] for i in training_setting_order]\n",
    "training_diff_roc = [r - training_rocs[1] for r in training_rocs]\n",
    "training_diff_pr = [r - training_prs[1] for r in training_prs]\n",
    "\n",
    "\n"
   ]
  },
  {
   "cell_type": "markdown",
   "metadata": {},
   "source": [
    "## Functions"
   ]
  },
  {
   "cell_type": "code",
   "execution_count": 15,
   "metadata": {},
   "outputs": [],
   "source": [
    "def tree_diagram(combinations, y_offset, x0=None):\n",
    "    if x0 is None:\n",
    "        x0 = 3 - len(combinations) - 1\n",
    "    y0 = 0\n",
    "    size = 2**(len(combinations)-2) // 2\n",
    "    tree = go.Figure()\n",
    "\n",
    "    for i, name in enumerate(combinations[:-1]):\n",
    "        temp_y = y0 + y_offset\n",
    "        for _ in range(2**i):\n",
    "            tree.add_trace(go.Scatter(\n",
    "                x=[x0+1, x0, x0, x0, x0+1],\n",
    "                y=[temp_y-size, temp_y-size, temp_y, temp_y+size, temp_y+size],\n",
    "            ))\n",
    "            if _ % 2 == 1 or i == 0:\n",
    "                tree.add_annotation(x=x0, y=temp_y, text=combinations[i])\n",
    "            temp_y -= size*4\n",
    "        x0 += 1\n",
    "        y0 += size\n",
    "        size /= 2\n",
    "\n",
    "    y0 -= size*4\n",
    "    x0 -= 0.2\n",
    "    for i in range(2**(len(combinations)-1) // 2):\n",
    "        tree.add_annotation(x=x0, y=y0+y_offset, text=combinations[-1])\n",
    "        y0 -= size*8\n",
    "        \n",
    "    tree.update_annotations(\n",
    "        showarrow=False,\n",
    "        bgcolor=\"white\",\n",
    "        font=dict(size=15)\n",
    "    )\n",
    "    tree.update_traces(\n",
    "        line=dict(color=\"black\"),\n",
    "        mode=\"lines\",\n",
    "    )\n",
    "    return tree\n",
    "\n",
    "def baseline_line(fig, base, ys, star_y=None):\n",
    "    fig.add_trace(\n",
    "        go.Scatter(\n",
    "            x = [base]*2,\n",
    "            y = [ys[0]+0.5, ys[-1]-0.5],\n",
    "            xaxis = \"x2\",\n",
    "            mode=\"lines\",\n",
    "            line = dict(\n",
    "                color=\"#1E1E1E\",\n",
    "                dash=\"dot\",\n",
    "            ),\n",
    "        )\n",
    "    )\n",
    "    fig.add_trace(\n",
    "        go.Scatter(\n",
    "            x=[base],\n",
    "            y=[star_y],\n",
    "            xaxis=\"x2\",\n",
    "            mode=\"markers\",\n",
    "            marker=dict(\n",
    "                color=\"#1E1E1E\",\n",
    "                size=16,\n",
    "                symbol=\"diamond\",\n",
    "            ),\n",
    "        )\n",
    "    )\n",
    "    fig.add_annotation(x=base-0.0013, y=star_y, text=\"baseline\", xref=\"x2\", showarrow=False, font=dict(size=15), xanchor=\"right\", bgcolor=\"white\")\n",
    "\n",
    "def diverging_bar(fig, diffs, ys, base, colors = [\"rgb(220, 38, 127)\", \"rgb(100, 143, 255)\"], label_best=True):\n",
    "    if isinstance(base, list):\n",
    "        marker_colors = [colors[b > base[0]] for b in base]\n",
    "    else:\n",
    "        marker_colors = [colors[r > 0] for r in diffs]\n",
    "    fig.add_trace(\n",
    "        go.Bar(\n",
    "            x=diffs, y=ys,\n",
    "            xaxis=\"x2\",\n",
    "            orientation=\"h\",\n",
    "            base=base,\n",
    "            marker=dict(\n",
    "                color=marker_colors,\n",
    "                line=dict(\n",
    "                    width=0,\n",
    "                ),\n",
    "            ),\n",
    "        )\n",
    "    )\n",
    "\n",
    "    if label_best:\n",
    "        idx = diffs.index(max(diffs))\n",
    "        fig.add_annotation(\n",
    "            x=base + diffs[idx] + 0.001, y=ys[idx], xref=\"x2\", xanchor=\"left\", bgcolor=\"white\", showarrow=False,\n",
    "            text=f\"{max(diffs):.3f} gain\", font=dict(size=14, family=\"Arial Black\")\n",
    "        )\n",
    "\n",
    "def custom_tree(combinations, y_offset):\n",
    "    tree = go.Figure()\n",
    "    x0 = -1\n",
    "    size = 2.5\n",
    "    temp_y = 0 + y_offset\n",
    "    tree.add_trace(go.Scatter(\n",
    "        x=[x0+1, x0, x0, x0, x0+1],\n",
    "        y=[temp_y-size, temp_y-size, temp_y, temp_y+size, temp_y+size],\n",
    "    ))\n",
    "    tree.add_annotation(x=x0, y=temp_y, text=combinations[0])\n",
    "\n",
    "    tree.add_annotation(x=x0+1, y=temp_y-size, text=combinations[1])\n",
    "\n",
    "    x0 += 1\n",
    "    size = 0.5\n",
    "    fixed_y = temp_y\n",
    "    n = len(combinations[-1])\n",
    "\n",
    "    for sign in [-1, 1]:\n",
    "        temp_y = fixed_y + sign*(size*n)\n",
    "        temp_y += size*(n + 1) / 2\n",
    "        \n",
    "        for i in range(n-1):\n",
    "            tree.add_trace(go.Scatter(\n",
    "                x=[x0+1, x0, x0, x0+1],\n",
    "                y=[temp_y-size, temp_y-size, temp_y+size, temp_y+size],\n",
    "            ))\n",
    "            tree.add_annotation(x=x0+0.9, y=temp_y+size, text=combinations[-1][i])\n",
    "            temp_y -= size*2\n",
    "        tree.add_annotation(x=x0+0.9, y=temp_y+size, text=combinations[-1][-1])\n",
    "        \n",
    "\n",
    "\n",
    "\n",
    "    tree.update_annotations(showarrow=False, bgcolor=\"white\", font=dict(size=15))\n",
    "    tree.update_traces(line=dict(color=\"black\"), mode=\"lines\")\n",
    "\n",
    "    return tree\n"
   ]
  },
  {
   "cell_type": "markdown",
   "metadata": {},
   "source": [
    "## Plot"
   ]
  },
  {
   "cell_type": "code",
   "execution_count": 16,
   "metadata": {},
   "outputs": [
    {
     "data": {
      "application/vnd.plotly.v1+json": {
       "config": {
        "plotlyServerURL": "https://plot.ly"
       },
       "data": [
        {
         "base": 0.9369,
         "marker": {
          "color": [
           "rgb(220, 38, 127)",
           "rgb(220, 38, 127)",
           "rgb(220, 38, 127)",
           "rgb(220, 38, 127)",
           "rgb(100, 143, 255)",
           "rgb(100, 143, 255)",
           "rgb(100, 143, 255)",
           "rgb(220, 38, 127)"
          ],
          "line": {
           "width": 0
          }
         },
         "orientation": "h",
         "type": "bar",
         "x": [
          0,
          -0.014579999999999926,
          -0.01368999999999998,
          -0.019899999999999918,
          0.008060000000000067,
          0.0043400000000000105,
          0.010310000000000041,
          -0.012229999999999963
         ],
         "xaxis": "x2",
         "y": [
          4,
          3,
          2,
          1,
          0,
          -1,
          -2,
          -3
         ]
        },
        {
         "line": {
          "color": "#1E1E1E",
          "dash": "dot"
         },
         "mode": "lines",
         "type": "scatter",
         "x": [
          0.9369,
          0.9369
         ],
         "xaxis": "x2",
         "y": [
          4.5,
          -3.5
         ]
        },
        {
         "marker": {
          "color": "#1E1E1E",
          "size": 16,
          "symbol": "diamond"
         },
         "mode": "markers",
         "type": "scatter",
         "x": [
          0.9369
         ],
         "xaxis": "x2",
         "y": [
          4
         ]
        },
        {
         "base": 0.94721,
         "marker": {
          "color": [
           "rgb(220, 38, 127)",
           "rgb(220, 38, 127)",
           "rgb(100, 143, 255)",
           "rgb(100, 143, 255)"
          ],
          "line": {
           "width": 0
          }
         },
         "orientation": "h",
         "type": "bar",
         "x": [
          0,
          -0.030200000000000005,
          0.028549999999999964,
          0.029449999999999976
         ],
         "xaxis": "x2",
         "y": [
          -5,
          -6,
          -7,
          -8
         ]
        },
        {
         "line": {
          "color": "#1E1E1E",
          "dash": "dot"
         },
         "mode": "lines",
         "type": "scatter",
         "x": [
          0.94721,
          0.94721
         ],
         "xaxis": "x2",
         "y": [
          -4.5,
          -8.5
         ]
        },
        {
         "marker": {
          "color": "#1E1E1E",
          "size": 16,
          "symbol": "diamond"
         },
         "mode": "markers",
         "type": "scatter",
         "x": [
          0.94721
         ],
         "xaxis": "x2",
         "y": [
          -5
         ]
        },
        {
         "base": 0.97666,
         "marker": {
          "color": [
           "rgb(100, 143, 255)",
           "rgb(220, 38, 127)",
           "rgb(100, 143, 255)",
           "rgb(220, 38, 127)",
           "rgb(220, 38, 127)",
           "rgb(220, 38, 127)",
           "rgb(220, 38, 127)",
           "rgb(100, 143, 255)",
           "rgb(220, 38, 127)",
           "rgb(220, 38, 127)"
          ],
          "line": {
           "width": 0
          }
         },
         "orientation": "h",
         "type": "bar",
         "x": [
          0.0010900000000000354,
          0,
          0.0010200000000000209,
          -0.00014999999999998348,
          -0.0015299999999999203,
          -0.006489999999999996,
          -0.0039399999999999435,
          0.0020100000000000673,
          -0.0035199999999999676,
          -0.0009000000000000119
         ],
         "xaxis": "x2",
         "y": [
          -10,
          -11,
          -12,
          -13,
          -14,
          -15,
          -16,
          -17,
          -18,
          -19
         ]
        },
        {
         "line": {
          "color": "#1E1E1E",
          "dash": "dot"
         },
         "mode": "lines",
         "type": "scatter",
         "x": [
          0.97666,
          0.97666
         ],
         "xaxis": "x2",
         "y": [
          -9.5,
          -19.5
         ]
        },
        {
         "marker": {
          "color": "#1E1E1E",
          "size": 16,
          "symbol": "diamond"
         },
         "mode": "markers",
         "type": "scatter",
         "x": [
          0.97666
         ],
         "xaxis": "x2",
         "y": [
          -11
         ]
        },
        {
         "line": {
          "color": "black"
         },
         "mode": "lines",
         "type": "scatter",
         "x": [
          -1,
          -2,
          -2,
          -2,
          -1
         ],
         "y": [
          -1.5,
          -1.5,
          0.5,
          2.5,
          2.5
         ]
        },
        {
         "line": {
          "color": "black"
         },
         "mode": "lines",
         "type": "scatter",
         "x": [
          0,
          -1,
          -1,
          -1,
          0
         ],
         "y": [
          1.5,
          1.5,
          2.5,
          3.5,
          3.5
         ]
        },
        {
         "line": {
          "color": "black"
         },
         "mode": "lines",
         "type": "scatter",
         "x": [
          0,
          -1,
          -1,
          -1,
          0
         ],
         "y": [
          -2.5,
          -2.5,
          -1.5,
          -0.5,
          -0.5
         ]
        },
        {
         "line": {
          "color": "black"
         },
         "mode": "lines",
         "type": "scatter",
         "x": [
          1,
          0,
          0,
          0,
          1
         ],
         "y": [
          3,
          3,
          3.5,
          4,
          4
         ]
        },
        {
         "line": {
          "color": "black"
         },
         "mode": "lines",
         "type": "scatter",
         "x": [
          1,
          0,
          0,
          0,
          1
         ],
         "y": [
          1,
          1,
          1.5,
          2,
          2
         ]
        },
        {
         "line": {
          "color": "black"
         },
         "mode": "lines",
         "type": "scatter",
         "x": [
          1,
          0,
          0,
          0,
          1
         ],
         "y": [
          -1,
          -1,
          -0.5,
          0,
          0
         ]
        },
        {
         "line": {
          "color": "black"
         },
         "mode": "lines",
         "type": "scatter",
         "x": [
          1,
          0,
          0,
          0,
          1
         ],
         "y": [
          -3,
          -3,
          -2.5,
          -2,
          -2
         ]
        },
        {
         "line": {
          "color": "black"
         },
         "mode": "lines",
         "type": "scatter",
         "x": [
          0,
          -1,
          -1,
          -1,
          0
         ],
         "y": [
          -7.5,
          -7.5,
          -6.5,
          -5.5,
          -5.5
         ]
        },
        {
         "line": {
          "color": "black"
         },
         "mode": "lines",
         "type": "scatter",
         "x": [
          1,
          0,
          0,
          0,
          1
         ],
         "y": [
          -6,
          -6,
          -5.5,
          -5,
          -5
         ]
        },
        {
         "line": {
          "color": "black"
         },
         "mode": "lines",
         "type": "scatter",
         "x": [
          1,
          0,
          0,
          0,
          1
         ],
         "y": [
          -8,
          -8,
          -7.5,
          -7,
          -7
         ]
        },
        {
         "line": {
          "color": "black"
         },
         "mode": "lines",
         "type": "scatter",
         "x": [
          0,
          -1,
          -1,
          -1,
          0
         ],
         "y": [
          -17,
          -17,
          -14.5,
          -12,
          -12
         ]
        },
        {
         "line": {
          "color": "black"
         },
         "mode": "lines",
         "type": "scatter",
         "x": [
          1,
          0,
          0,
          1
         ],
         "y": [
          -16,
          -16,
          -15,
          -15
         ]
        },
        {
         "line": {
          "color": "black"
         },
         "mode": "lines",
         "type": "scatter",
         "x": [
          1,
          0,
          0,
          1
         ],
         "y": [
          -17,
          -17,
          -16,
          -16
         ]
        },
        {
         "line": {
          "color": "black"
         },
         "mode": "lines",
         "type": "scatter",
         "x": [
          1,
          0,
          0,
          1
         ],
         "y": [
          -18,
          -18,
          -17,
          -17
         ]
        },
        {
         "line": {
          "color": "black"
         },
         "mode": "lines",
         "type": "scatter",
         "x": [
          1,
          0,
          0,
          1
         ],
         "y": [
          -19,
          -19,
          -18,
          -18
         ]
        },
        {
         "line": {
          "color": "black"
         },
         "mode": "lines",
         "type": "scatter",
         "x": [
          1,
          0,
          0,
          1
         ],
         "y": [
          -11,
          -11,
          -10,
          -10
         ]
        },
        {
         "line": {
          "color": "black"
         },
         "mode": "lines",
         "type": "scatter",
         "x": [
          1,
          0,
          0,
          1
         ],
         "y": [
          -12,
          -12,
          -11,
          -11
         ]
        },
        {
         "line": {
          "color": "black"
         },
         "mode": "lines",
         "type": "scatter",
         "x": [
          1,
          0,
          0,
          1
         ],
         "y": [
          -13,
          -13,
          -12,
          -12
         ]
        },
        {
         "line": {
          "color": "black"
         },
         "mode": "lines",
         "type": "scatter",
         "x": [
          1,
          0,
          0,
          1
         ],
         "y": [
          -14,
          -14,
          -13,
          -13
         ]
        }
       ],
       "layout": {
        "annotations": [
         {
          "bgcolor": "white",
          "font": {
           "family": "Arial Black",
           "size": 14
          },
          "showarrow": false,
          "text": "0.010 gain",
          "x": 0.94821,
          "xanchor": "left",
          "xref": "x2",
          "y": -2
         },
         {
          "bgcolor": "white",
          "font": {
           "size": 15
          },
          "showarrow": false,
          "text": "baseline",
          "x": 0.9356,
          "xanchor": "right",
          "xref": "x2",
          "y": 4
         },
         {
          "bgcolor": "white",
          "font": {
           "family": "Arial Black",
           "size": 14
          },
          "showarrow": false,
          "text": "0.029 gain",
          "x": 0.97766,
          "xanchor": "left",
          "xref": "x2",
          "y": -8
         },
         {
          "bgcolor": "white",
          "font": {
           "size": 15
          },
          "showarrow": false,
          "text": "baseline",
          "x": 0.94591,
          "xanchor": "right",
          "xref": "x2",
          "y": -5
         },
         {
          "bgcolor": "white",
          "font": {
           "family": "Arial Black",
           "size": 14
          },
          "showarrow": false,
          "text": "0.002 gain",
          "x": 0.97967,
          "xanchor": "left",
          "xref": "x2",
          "y": -17
         },
         {
          "bgcolor": "white",
          "font": {
           "size": 15
          },
          "showarrow": false,
          "text": "baseline",
          "x": 0.97536,
          "xanchor": "right",
          "xref": "x2",
          "y": -11
         },
         {
          "bgcolor": "white",
          "font": {
           "size": 15
          },
          "showarrow": false,
          "text": "BEHRT",
          "x": -2,
          "y": 0.5
         },
         {
          "bgcolor": "white",
          "font": {
           "size": 15
          },
          "showarrow": false,
          "text": "+BS",
          "x": -1,
          "y": -1.5
         },
         {
          "bgcolor": "white",
          "font": {
           "size": 15
          },
          "showarrow": false,
          "text": "+FV",
          "x": 0,
          "y": 1.5
         },
         {
          "bgcolor": "white",
          "font": {
           "size": 15
          },
          "showarrow": false,
          "text": "+FV",
          "x": 0,
          "y": -2.5
         },
         {
          "bgcolor": "white",
          "font": {
           "size": 15
          },
          "showarrow": false,
          "text": "-SEP",
          "x": 0.8,
          "y": 3
         },
         {
          "bgcolor": "white",
          "font": {
           "size": 15
          },
          "showarrow": false,
          "text": "-SEP",
          "x": 0.8,
          "y": 1
         },
         {
          "bgcolor": "white",
          "font": {
           "size": 15
          },
          "showarrow": false,
          "text": "-SEP",
          "x": 0.8,
          "y": -1
         },
         {
          "bgcolor": "white",
          "font": {
           "size": 15
          },
          "showarrow": false,
          "text": "-SEP",
          "x": 0.8,
          "y": -3
         },
         {
          "bgcolor": "white",
          "font": {
           "size": 15
          },
          "showarrow": false,
          "text": "+Data",
          "x": -1,
          "y": -6.5
         },
         {
          "bgcolor": "white",
          "font": {
           "size": 15
          },
          "showarrow": false,
          "text": "+CE",
          "x": 0,
          "y": -7.5
         },
         {
          "bgcolor": "white",
          "font": {
           "size": 15
          },
          "showarrow": false,
          "text": "+T",
          "x": 0.8,
          "y": -6
         },
         {
          "bgcolor": "white",
          "font": {
           "size": 15
          },
          "showarrow": false,
          "text": "+T",
          "x": 0.8,
          "y": -8
         },
         {
          "bgcolor": "white",
          "font": {
           "size": 15
          },
          "showarrow": false,
          "text": "+Embedding",
          "x": -1,
          "y": -14.5
         },
         {
          "bgcolor": "white",
          "font": {
           "size": 15
          },
          "showarrow": false,
          "text": "+FM",
          "x": 0,
          "y": -17
         },
         {
          "bgcolor": "white",
          "font": {
           "size": 15
          },
          "showarrow": false,
          "text": "10",
          "x": 0.9,
          "y": -15
         },
         {
          "bgcolor": "white",
          "font": {
           "size": 15
          },
          "showarrow": false,
          "text": "15",
          "x": 0.9,
          "y": -16
         },
         {
          "bgcolor": "white",
          "font": {
           "size": 15
          },
          "showarrow": false,
          "text": "20",
          "x": 0.9,
          "y": -17
         },
         {
          "bgcolor": "white",
          "font": {
           "size": 15
          },
          "showarrow": false,
          "text": "25",
          "x": 0.9,
          "y": -18
         },
         {
          "bgcolor": "white",
          "font": {
           "size": 15
          },
          "showarrow": false,
          "text": "30",
          "x": 0.9,
          "y": -19
         },
         {
          "bgcolor": "white",
          "font": {
           "size": 15
          },
          "showarrow": false,
          "text": "10",
          "x": 0.9,
          "y": -10
         },
         {
          "bgcolor": "white",
          "font": {
           "size": 15
          },
          "showarrow": false,
          "text": "15",
          "x": 0.9,
          "y": -11
         },
         {
          "bgcolor": "white",
          "font": {
           "size": 15
          },
          "showarrow": false,
          "text": "20",
          "x": 0.9,
          "y": -12
         },
         {
          "bgcolor": "white",
          "font": {
           "size": 15
          },
          "showarrow": false,
          "text": "25",
          "x": 0.9,
          "y": -13
         },
         {
          "bgcolor": "white",
          "font": {
           "size": 15
          },
          "showarrow": false,
          "text": "30",
          "x": 0.9,
          "y": -14
         },
         {
          "font": {
           "size": 25
          },
          "showarrow": false,
          "text": "Data",
          "textangle": -90,
          "x": -3.3,
          "y": 0.5
         },
         {
          "font": {
           "size": 25
          },
          "showarrow": false,
          "text": "Embedding",
          "textangle": -90,
          "x": -3.3,
          "y": -6.5
         },
         {
          "font": {
           "size": 25
          },
          "showarrow": false,
          "text": "Masking",
          "textangle": -90,
          "x": -3.3,
          "y": -15
         }
        ],
        "height": 800,
        "margin": {
         "b": 50,
         "l": 50,
         "r": 50,
         "t": 50
        },
        "plot_bgcolor": "white",
        "shapes": [
         {
          "line": {
           "color": "black",
           "width": 3
          },
          "type": "line",
          "x0": 0.91,
          "x1": 0.91,
          "xref": "x2",
          "y0": 5,
          "y1": -20
         }
        ],
        "showlegend": false,
        "template": {
         "data": {
          "bar": [
           {
            "error_x": {
             "color": "#2a3f5f"
            },
            "error_y": {
             "color": "#2a3f5f"
            },
            "marker": {
             "line": {
              "color": "#E5ECF6",
              "width": 0.5
             },
             "pattern": {
              "fillmode": "overlay",
              "size": 10,
              "solidity": 0.2
             }
            },
            "type": "bar"
           }
          ],
          "barpolar": [
           {
            "marker": {
             "line": {
              "color": "#E5ECF6",
              "width": 0.5
             },
             "pattern": {
              "fillmode": "overlay",
              "size": 10,
              "solidity": 0.2
             }
            },
            "type": "barpolar"
           }
          ],
          "carpet": [
           {
            "aaxis": {
             "endlinecolor": "#2a3f5f",
             "gridcolor": "white",
             "linecolor": "white",
             "minorgridcolor": "white",
             "startlinecolor": "#2a3f5f"
            },
            "baxis": {
             "endlinecolor": "#2a3f5f",
             "gridcolor": "white",
             "linecolor": "white",
             "minorgridcolor": "white",
             "startlinecolor": "#2a3f5f"
            },
            "type": "carpet"
           }
          ],
          "choropleth": [
           {
            "colorbar": {
             "outlinewidth": 0,
             "ticks": ""
            },
            "type": "choropleth"
           }
          ],
          "contour": [
           {
            "colorbar": {
             "outlinewidth": 0,
             "ticks": ""
            },
            "colorscale": [
             [
              0,
              "#0d0887"
             ],
             [
              0.1111111111111111,
              "#46039f"
             ],
             [
              0.2222222222222222,
              "#7201a8"
             ],
             [
              0.3333333333333333,
              "#9c179e"
             ],
             [
              0.4444444444444444,
              "#bd3786"
             ],
             [
              0.5555555555555556,
              "#d8576b"
             ],
             [
              0.6666666666666666,
              "#ed7953"
             ],
             [
              0.7777777777777778,
              "#fb9f3a"
             ],
             [
              0.8888888888888888,
              "#fdca26"
             ],
             [
              1,
              "#f0f921"
             ]
            ],
            "type": "contour"
           }
          ],
          "contourcarpet": [
           {
            "colorbar": {
             "outlinewidth": 0,
             "ticks": ""
            },
            "type": "contourcarpet"
           }
          ],
          "heatmap": [
           {
            "colorbar": {
             "outlinewidth": 0,
             "ticks": ""
            },
            "colorscale": [
             [
              0,
              "#0d0887"
             ],
             [
              0.1111111111111111,
              "#46039f"
             ],
             [
              0.2222222222222222,
              "#7201a8"
             ],
             [
              0.3333333333333333,
              "#9c179e"
             ],
             [
              0.4444444444444444,
              "#bd3786"
             ],
             [
              0.5555555555555556,
              "#d8576b"
             ],
             [
              0.6666666666666666,
              "#ed7953"
             ],
             [
              0.7777777777777778,
              "#fb9f3a"
             ],
             [
              0.8888888888888888,
              "#fdca26"
             ],
             [
              1,
              "#f0f921"
             ]
            ],
            "type": "heatmap"
           }
          ],
          "heatmapgl": [
           {
            "colorbar": {
             "outlinewidth": 0,
             "ticks": ""
            },
            "colorscale": [
             [
              0,
              "#0d0887"
             ],
             [
              0.1111111111111111,
              "#46039f"
             ],
             [
              0.2222222222222222,
              "#7201a8"
             ],
             [
              0.3333333333333333,
              "#9c179e"
             ],
             [
              0.4444444444444444,
              "#bd3786"
             ],
             [
              0.5555555555555556,
              "#d8576b"
             ],
             [
              0.6666666666666666,
              "#ed7953"
             ],
             [
              0.7777777777777778,
              "#fb9f3a"
             ],
             [
              0.8888888888888888,
              "#fdca26"
             ],
             [
              1,
              "#f0f921"
             ]
            ],
            "type": "heatmapgl"
           }
          ],
          "histogram": [
           {
            "marker": {
             "pattern": {
              "fillmode": "overlay",
              "size": 10,
              "solidity": 0.2
             }
            },
            "type": "histogram"
           }
          ],
          "histogram2d": [
           {
            "colorbar": {
             "outlinewidth": 0,
             "ticks": ""
            },
            "colorscale": [
             [
              0,
              "#0d0887"
             ],
             [
              0.1111111111111111,
              "#46039f"
             ],
             [
              0.2222222222222222,
              "#7201a8"
             ],
             [
              0.3333333333333333,
              "#9c179e"
             ],
             [
              0.4444444444444444,
              "#bd3786"
             ],
             [
              0.5555555555555556,
              "#d8576b"
             ],
             [
              0.6666666666666666,
              "#ed7953"
             ],
             [
              0.7777777777777778,
              "#fb9f3a"
             ],
             [
              0.8888888888888888,
              "#fdca26"
             ],
             [
              1,
              "#f0f921"
             ]
            ],
            "type": "histogram2d"
           }
          ],
          "histogram2dcontour": [
           {
            "colorbar": {
             "outlinewidth": 0,
             "ticks": ""
            },
            "colorscale": [
             [
              0,
              "#0d0887"
             ],
             [
              0.1111111111111111,
              "#46039f"
             ],
             [
              0.2222222222222222,
              "#7201a8"
             ],
             [
              0.3333333333333333,
              "#9c179e"
             ],
             [
              0.4444444444444444,
              "#bd3786"
             ],
             [
              0.5555555555555556,
              "#d8576b"
             ],
             [
              0.6666666666666666,
              "#ed7953"
             ],
             [
              0.7777777777777778,
              "#fb9f3a"
             ],
             [
              0.8888888888888888,
              "#fdca26"
             ],
             [
              1,
              "#f0f921"
             ]
            ],
            "type": "histogram2dcontour"
           }
          ],
          "mesh3d": [
           {
            "colorbar": {
             "outlinewidth": 0,
             "ticks": ""
            },
            "type": "mesh3d"
           }
          ],
          "parcoords": [
           {
            "line": {
             "colorbar": {
              "outlinewidth": 0,
              "ticks": ""
             }
            },
            "type": "parcoords"
           }
          ],
          "pie": [
           {
            "automargin": true,
            "type": "pie"
           }
          ],
          "scatter": [
           {
            "fillpattern": {
             "fillmode": "overlay",
             "size": 10,
             "solidity": 0.2
            },
            "type": "scatter"
           }
          ],
          "scatter3d": [
           {
            "line": {
             "colorbar": {
              "outlinewidth": 0,
              "ticks": ""
             }
            },
            "marker": {
             "colorbar": {
              "outlinewidth": 0,
              "ticks": ""
             }
            },
            "type": "scatter3d"
           }
          ],
          "scattercarpet": [
           {
            "marker": {
             "colorbar": {
              "outlinewidth": 0,
              "ticks": ""
             }
            },
            "type": "scattercarpet"
           }
          ],
          "scattergeo": [
           {
            "marker": {
             "colorbar": {
              "outlinewidth": 0,
              "ticks": ""
             }
            },
            "type": "scattergeo"
           }
          ],
          "scattergl": [
           {
            "marker": {
             "colorbar": {
              "outlinewidth": 0,
              "ticks": ""
             }
            },
            "type": "scattergl"
           }
          ],
          "scattermapbox": [
           {
            "marker": {
             "colorbar": {
              "outlinewidth": 0,
              "ticks": ""
             }
            },
            "type": "scattermapbox"
           }
          ],
          "scatterpolar": [
           {
            "marker": {
             "colorbar": {
              "outlinewidth": 0,
              "ticks": ""
             }
            },
            "type": "scatterpolar"
           }
          ],
          "scatterpolargl": [
           {
            "marker": {
             "colorbar": {
              "outlinewidth": 0,
              "ticks": ""
             }
            },
            "type": "scatterpolargl"
           }
          ],
          "scatterternary": [
           {
            "marker": {
             "colorbar": {
              "outlinewidth": 0,
              "ticks": ""
             }
            },
            "type": "scatterternary"
           }
          ],
          "surface": [
           {
            "colorbar": {
             "outlinewidth": 0,
             "ticks": ""
            },
            "colorscale": [
             [
              0,
              "#0d0887"
             ],
             [
              0.1111111111111111,
              "#46039f"
             ],
             [
              0.2222222222222222,
              "#7201a8"
             ],
             [
              0.3333333333333333,
              "#9c179e"
             ],
             [
              0.4444444444444444,
              "#bd3786"
             ],
             [
              0.5555555555555556,
              "#d8576b"
             ],
             [
              0.6666666666666666,
              "#ed7953"
             ],
             [
              0.7777777777777778,
              "#fb9f3a"
             ],
             [
              0.8888888888888888,
              "#fdca26"
             ],
             [
              1,
              "#f0f921"
             ]
            ],
            "type": "surface"
           }
          ],
          "table": [
           {
            "cells": {
             "fill": {
              "color": "#EBF0F8"
             },
             "line": {
              "color": "white"
             }
            },
            "header": {
             "fill": {
              "color": "#C8D4E3"
             },
             "line": {
              "color": "white"
             }
            },
            "type": "table"
           }
          ]
         },
         "layout": {
          "annotationdefaults": {
           "arrowcolor": "#2a3f5f",
           "arrowhead": 0,
           "arrowwidth": 1
          },
          "autotypenumbers": "strict",
          "coloraxis": {
           "colorbar": {
            "outlinewidth": 0,
            "ticks": ""
           }
          },
          "colorscale": {
           "diverging": [
            [
             0,
             "#8e0152"
            ],
            [
             0.1,
             "#c51b7d"
            ],
            [
             0.2,
             "#de77ae"
            ],
            [
             0.3,
             "#f1b6da"
            ],
            [
             0.4,
             "#fde0ef"
            ],
            [
             0.5,
             "#f7f7f7"
            ],
            [
             0.6,
             "#e6f5d0"
            ],
            [
             0.7,
             "#b8e186"
            ],
            [
             0.8,
             "#7fbc41"
            ],
            [
             0.9,
             "#4d9221"
            ],
            [
             1,
             "#276419"
            ]
           ],
           "sequential": [
            [
             0,
             "#0d0887"
            ],
            [
             0.1111111111111111,
             "#46039f"
            ],
            [
             0.2222222222222222,
             "#7201a8"
            ],
            [
             0.3333333333333333,
             "#9c179e"
            ],
            [
             0.4444444444444444,
             "#bd3786"
            ],
            [
             0.5555555555555556,
             "#d8576b"
            ],
            [
             0.6666666666666666,
             "#ed7953"
            ],
            [
             0.7777777777777778,
             "#fb9f3a"
            ],
            [
             0.8888888888888888,
             "#fdca26"
            ],
            [
             1,
             "#f0f921"
            ]
           ],
           "sequentialminus": [
            [
             0,
             "#0d0887"
            ],
            [
             0.1111111111111111,
             "#46039f"
            ],
            [
             0.2222222222222222,
             "#7201a8"
            ],
            [
             0.3333333333333333,
             "#9c179e"
            ],
            [
             0.4444444444444444,
             "#bd3786"
            ],
            [
             0.5555555555555556,
             "#d8576b"
            ],
            [
             0.6666666666666666,
             "#ed7953"
            ],
            [
             0.7777777777777778,
             "#fb9f3a"
            ],
            [
             0.8888888888888888,
             "#fdca26"
            ],
            [
             1,
             "#f0f921"
            ]
           ]
          },
          "colorway": [
           "#636efa",
           "#EF553B",
           "#00cc96",
           "#ab63fa",
           "#FFA15A",
           "#19d3f3",
           "#FF6692",
           "#B6E880",
           "#FF97FF",
           "#FECB52"
          ],
          "font": {
           "color": "#2a3f5f"
          },
          "geo": {
           "bgcolor": "white",
           "lakecolor": "white",
           "landcolor": "#E5ECF6",
           "showlakes": true,
           "showland": true,
           "subunitcolor": "white"
          },
          "hoverlabel": {
           "align": "left"
          },
          "hovermode": "closest",
          "mapbox": {
           "style": "light"
          },
          "paper_bgcolor": "white",
          "plot_bgcolor": "#E5ECF6",
          "polar": {
           "angularaxis": {
            "gridcolor": "white",
            "linecolor": "white",
            "ticks": ""
           },
           "bgcolor": "#E5ECF6",
           "radialaxis": {
            "gridcolor": "white",
            "linecolor": "white",
            "ticks": ""
           }
          },
          "scene": {
           "xaxis": {
            "backgroundcolor": "#E5ECF6",
            "gridcolor": "white",
            "gridwidth": 2,
            "linecolor": "white",
            "showbackground": true,
            "ticks": "",
            "zerolinecolor": "white"
           },
           "yaxis": {
            "backgroundcolor": "#E5ECF6",
            "gridcolor": "white",
            "gridwidth": 2,
            "linecolor": "white",
            "showbackground": true,
            "ticks": "",
            "zerolinecolor": "white"
           },
           "zaxis": {
            "backgroundcolor": "#E5ECF6",
            "gridcolor": "white",
            "gridwidth": 2,
            "linecolor": "white",
            "showbackground": true,
            "ticks": "",
            "zerolinecolor": "white"
           }
          },
          "shapedefaults": {
           "line": {
            "color": "#2a3f5f"
           }
          },
          "ternary": {
           "aaxis": {
            "gridcolor": "white",
            "linecolor": "white",
            "ticks": ""
           },
           "baxis": {
            "gridcolor": "white",
            "linecolor": "white",
            "ticks": ""
           },
           "bgcolor": "#E5ECF6",
           "caxis": {
            "gridcolor": "white",
            "linecolor": "white",
            "ticks": ""
           }
          },
          "title": {
           "x": 0.05
          },
          "xaxis": {
           "automargin": true,
           "gridcolor": "white",
           "linecolor": "white",
           "ticks": "",
           "title": {
            "standoff": 15
           },
           "zerolinecolor": "white",
           "zerolinewidth": 2
          },
          "yaxis": {
           "automargin": true,
           "gridcolor": "white",
           "linecolor": "white",
           "ticks": "",
           "title": {
            "standoff": 15
           },
           "zerolinecolor": "white",
           "zerolinewidth": 2
          }
         }
        },
        "width": 1100,
        "xaxis": {
         "domain": [
          0,
          0.2
         ],
         "visible": false
        },
        "xaxis2": {
         "domain": [
          0.2,
          1
         ],
         "gridcolor": "silver",
         "griddash": "solid",
         "linecolor": "black",
         "linewidth": 3,
         "range": [
          0.9099,
          0.99011
         ],
         "showline": true,
         "tickfont": {
          "size": 15
         },
         "title": {
          "font": {
           "size": 25
          },
          "text": "AUROC"
         }
        },
        "yaxis": {
         "range": [
          -20,
          5
         ],
         "visible": false
        }
       }
      }
     },
     "metadata": {},
     "output_type": "display_data"
    }
   ],
   "source": [
    "fig = go.Figure()\n",
    "layout = go.Layout(\n",
    "    xaxis=dict(\n",
    "        domain=[0, 0.2],\n",
    "        visible=False,\n",
    "    ),\n",
    "    xaxis2=dict(\n",
    "        domain=[0.2, 1], \n",
    "        range=(0.9099, 0.99011),\n",
    "        gridcolor=\"silver\",\n",
    "        griddash=\"solid\",\n",
    "        showline=True,\n",
    "        linecolor=\"black\",\n",
    "        linewidth=3,\n",
    "        tickfont=dict(size=15),\n",
    "        title=dict(\n",
    "            text=\"AUROC\",\n",
    "            font=dict(\n",
    "                size=25,\n",
    "            ),\n",
    "        ),\n",
    "    ),\n",
    "    yaxis=dict(\n",
    "        visible=False,\n",
    "        range=(-20, 5),\n",
    "\n",
    "    ),\n",
    "    height=800,\n",
    "    width=1100,\n",
    "    plot_bgcolor=\"white\",\n",
    "    showlegend=False,\n",
    "    margin=dict(l=50, r=50, b=50, t=50),\n",
    ")\n",
    "\n",
    "tree = tree_diagram([\"BEHRT\", \"+BS\", \"+FV\", \"-SEP\"], 0.5)\n",
    "tree2 = tree_diagram([\"+Data\", \"+CE\", \"+T\"], -6.5)\n",
    "tree3 = custom_tree([\"+Embedding\", \"+FM\", [10, 15, 20, 25, 30]], y_offset=-14.5)\n",
    "\n",
    "ys = list(range(4, -4, -1))\n",
    "base = data_rocs[0]\n",
    "# diverging_bar(fig, data_diff_pr, ys, base, label_best=False, colors=[\"rgb(195, 63, 128)\", \"rgb(100, 143, 255)\"])\n",
    "diverging_bar(fig, data_diff_roc, ys, base)\n",
    "baseline_line(fig, base, ys, star_y=4)\n",
    "\n",
    "ys = list(range(-5, -9, -1))\n",
    "base = model_rocs[0]\n",
    "# diverging_bar(fig, model_diff_pr, ys, base, label_best=False, colors=[\"rgb(195, 63, 128)\", \"rgb(100, 143, 255)\"])\n",
    "diverging_bar(fig, model_diff_roc, ys, base)\n",
    "baseline_line(fig, base, ys, star_y=-5)\n",
    "\n",
    "ys = list(range(-10, -20, -1))\n",
    "base = training_rocs[1]\n",
    "# diverging_bar(fig, training_diff_pr, ys, base, label_best=False, colors=[\"rgb(195, 63, 128)\", \"rgb(100, 143, 255)\"])\n",
    "diverging_bar(fig, training_diff_roc, ys, base)\n",
    "baseline_line(fig, base, ys, star_y=-11)\n",
    "\n",
    "for t in tree.data + tree2.data + tree3.data:\n",
    "    fig.add_trace(t)\n",
    "for t in tree.layout.annotations + tree2.layout.annotations + tree3.layout.annotations:\n",
    "    fig.add_annotation(t)\n",
    "\n",
    "\n",
    "fig.update_layout(layout)\n",
    "\n",
    "# Add false y-axis at 0.93\n",
    "fig.add_shape(go.layout.Shape(type=\"line\",xref=\"x2\",x0=0.91,x1=0.91,y0=5,y1=-20, line=dict(color=\"black\", width=3)))\n",
    "\n",
    "\n",
    "fig.add_annotation(x=-3.3, y=0.5, text=\"Data\", textangle=-90, showarrow=False, font=dict(size=25))\n",
    "fig.add_annotation(x=-3.3, y=-6.5, text=\"Embedding\", textangle=-90, showarrow=False, font=dict(size=25))\n",
    "fig.add_annotation(x=-3.3, y=-15, text=\"Masking\", textangle=-90, showarrow=False, font=dict(size=25))\n",
    "\n",
    "fig.show()\n"
   ]
  },
  {
   "cell_type": "code",
   "execution_count": null,
   "metadata": {},
   "outputs": [],
   "source": []
  }
 ],
 "metadata": {
  "kernelspec": {
   "display_name": "Python 3.10.7 64-bit",
   "language": "python",
   "name": "python3"
  },
  "language_info": {
   "codemirror_mode": {
    "name": "ipython",
    "version": 3
   },
   "file_extension": ".py",
   "mimetype": "text/x-python",
   "name": "python",
   "nbconvert_exporter": "python",
   "pygments_lexer": "ipython3",
   "version": "3.10.7"
  },
  "orig_nbformat": 4,
  "vscode": {
   "interpreter": {
    "hash": "aee8b7b246df8f9039afb4144a1f6fd8d2ca17a180786b69acc140d282b71a49"
   }
  }
 },
 "nbformat": 4,
 "nbformat_minor": 2
}
